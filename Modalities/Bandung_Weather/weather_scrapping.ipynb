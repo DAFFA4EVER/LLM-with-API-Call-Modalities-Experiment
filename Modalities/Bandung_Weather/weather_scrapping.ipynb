{
 "cells": [
  {
   "cell_type": "code",
   "execution_count": 6,
   "metadata": {},
   "outputs": [],
   "source": [
    "# importing the library\n",
    "import requests\n",
    "from bs4 import BeautifulSoup\n"
   ]
  },
  {
   "cell_type": "code",
   "execution_count": 7,
   "metadata": {},
   "outputs": [],
   "source": [
    "def get_temperature(url):\n",
    "    response = requests.get(url)\n",
    "    headers = {\n",
    "        'User-Agent': 'Mozilla/5.0 (Windows NT 10.0; Win64; x64) AppleWebKit/537.36 (KHTML, like Gecko) Chrome/58.0.3029.110 Safari/537.3'\n",
    "    }\n",
    "    response = requests.get(url, headers=headers)\n",
    "    soup = BeautifulSoup(response.content, 'html.parser')\n",
    "    \n",
    "    # Find the h2 tag with the class 'heading-md' which contains the temperature\n",
    "    temperature_element = soup.find('h2', class_='heading-md')\n",
    "    #print(soup)\n",
    "    if temperature_element:\n",
    "        # Extract the temperature, remove the '°C' part if necessary\n",
    "        temperature = temperature_element.get_text().replace('°C', '').strip()\n",
    "        return temperature + '°C'\n",
    "    else:\n",
    "        return \"Temperature not found\""
   ]
  },
  {
   "cell_type": "code",
   "execution_count": 8,
   "metadata": {},
   "outputs": [],
   "source": [
    "\n",
    "# URLs for different locations\n",
    "urls = {\n",
    "    \"Bandung\": \"https://www.bmkg.go.id/cuaca/prakiraan-cuaca.bmkg?Kota=Bandung&AreaID=501212&Prov=35\",\n",
    "    \"Lembang\": \"https://www.bmkg.go.id/cuaca/prakiraan-cuaca.bmkg?Kec=Lembang&kab=Kab._Bandung_Barat&Prov=Jawa_Barat&AreaID=501599\",\n",
    "    \"Dayeuh Kolot\": \"https://www.bmkg.go.id/cuaca/prakiraan-cuaca.bmkg?Kec=Dayeuhkolot&kab=Kab._Bandung&Prov=Jawa_Barat&AreaID=5009460\"\n",
    "}\n"
   ]
  },
  {
   "cell_type": "code",
   "execution_count": 9,
   "metadata": {},
   "outputs": [
    {
     "name": "stdout",
     "output_type": "stream",
     "text": [
      "Bandung: 21°C\n",
      "Lembang: 21°C\n",
      "Dayeuh Kolot: 23°C\n"
     ]
    }
   ],
   "source": [
    "# Fetch and print temperatures\n",
    "for location, url in urls.items():\n",
    "    temperature = get_temperature(url)\n",
    "    print(f\"{location}: {temperature}\")"
   ]
  }
 ],
 "metadata": {
  "kernelspec": {
   "display_name": "Python 3",
   "language": "python",
   "name": "python3"
  },
  "language_info": {
   "codemirror_mode": {
    "name": "ipython",
    "version": 3
   },
   "file_extension": ".py",
   "mimetype": "text/x-python",
   "name": "python",
   "nbconvert_exporter": "python",
   "pygments_lexer": "ipython3",
   "version": "3.10.0"
  }
 },
 "nbformat": 4,
 "nbformat_minor": 2
}
